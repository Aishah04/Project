{
 "cells": [
  {
   "cell_type": "code",
   "execution_count": 1,
   "id": "6dc780c5-3e43-484c-a20e-c361060b9c14",
   "metadata": {},
   "outputs": [],
   "source": [
    "import pandas as pd\n",
    "import os\n",
    "import datetime\n",
    "from glob import glob\n",
    "from ast import literal_eval\n",
    "from pandas.plotting import register_matplotlib_converters\n",
    "register_matplotlib_converters()"
   ]
  },
  {
   "cell_type": "code",
   "execution_count": 2,
   "id": "5a3c3a8a-d1ae-4764-bfd7-297412429c9e",
   "metadata": {},
   "outputs": [
    {
     "name": "stdout",
     "output_type": "stream",
     "text": [
      "['.\\\\SS\\\\PASt Stephens roof.csv', '.\\\\SS\\\\St StephensIndoorHall.csv', '.\\\\SS\\\\StStephensBIBoutdoor.csv', '.\\\\SS\\\\StStephensIndoorclass.csv', '.\\\\SS\\\\TtestTrial.csv']\n"
     ]
    }
   ],
   "source": [
    "PATH = '.'\n",
    "EXT = '*.csv'\n",
    "all_BIB_files = [file\n",
    "                 for path, subdir, files in os.walk(PATH)\n",
    "                 for file in glob(os.path.join(path, EXT))]\n",
    "BA_files = 'SS'\n",
    "all_BA_files = [y for y in all_BIB_files if BA_files in y]\n",
    "print(all_BA_files)"
   ]
  },
  {
   "cell_type": "code",
   "execution_count": 3,
   "id": "f378dea5-2679-45bf-be62-13d390fa8854",
   "metadata": {},
   "outputs": [],
   "source": [
    "df= pd.read_csv('SS\\\\TtestTrial.csv', parse_dates=['Date'], index_col='Date', dayfirst=True)"
   ]
  },
  {
   "cell_type": "code",
   "execution_count": 4,
   "id": "0fd132fd-406d-4f0f-a1a9-3bb2a25452c1",
   "metadata": {},
   "outputs": [
    {
     "data": {
      "text/html": [
       "<div>\n",
       "<style scoped>\n",
       "    .dataframe tbody tr th:only-of-type {\n",
       "        vertical-align: middle;\n",
       "    }\n",
       "\n",
       "    .dataframe tbody tr th {\n",
       "        vertical-align: top;\n",
       "    }\n",
       "\n",
       "    .dataframe thead th {\n",
       "        text-align: right;\n",
       "    }\n",
       "</style>\n",
       "<table border=\"1\" class=\"dataframe\">\n",
       "  <thead>\n",
       "    <tr style=\"text-align: right;\">\n",
       "      <th></th>\n",
       "      <th>PM25</th>\n",
       "    </tr>\n",
       "    <tr>\n",
       "      <th>Date</th>\n",
       "      <th></th>\n",
       "    </tr>\n",
       "  </thead>\n",
       "  <tbody>\n",
       "    <tr>\n",
       "      <th>2023-01-27</th>\n",
       "      <td>1</td>\n",
       "    </tr>\n",
       "    <tr>\n",
       "      <th>2023-01-28</th>\n",
       "      <td>1</td>\n",
       "    </tr>\n",
       "    <tr>\n",
       "      <th>2023-01-29</th>\n",
       "      <td>1</td>\n",
       "    </tr>\n",
       "    <tr>\n",
       "      <th>2023-01-30</th>\n",
       "      <td>1</td>\n",
       "    </tr>\n",
       "    <tr>\n",
       "      <th>2023-01-31</th>\n",
       "      <td>1</td>\n",
       "    </tr>\n",
       "    <tr>\n",
       "      <th>2023-02-01</th>\n",
       "      <td>1</td>\n",
       "    </tr>\n",
       "    <tr>\n",
       "      <th>2023-02-02</th>\n",
       "      <td>1</td>\n",
       "    </tr>\n",
       "    <tr>\n",
       "      <th>2023-02-03</th>\n",
       "      <td>2</td>\n",
       "    </tr>\n",
       "    <tr>\n",
       "      <th>2023-02-04</th>\n",
       "      <td>2</td>\n",
       "    </tr>\n",
       "    <tr>\n",
       "      <th>2023-02-05</th>\n",
       "      <td>2</td>\n",
       "    </tr>\n",
       "    <tr>\n",
       "      <th>2023-02-06</th>\n",
       "      <td>5</td>\n",
       "    </tr>\n",
       "    <tr>\n",
       "      <th>2023-02-07</th>\n",
       "      <td>3</td>\n",
       "    </tr>\n",
       "    <tr>\n",
       "      <th>2023-02-08</th>\n",
       "      <td>5</td>\n",
       "    </tr>\n",
       "    <tr>\n",
       "      <th>2023-02-09</th>\n",
       "      <td>4</td>\n",
       "    </tr>\n",
       "    <tr>\n",
       "      <th>2023-02-10</th>\n",
       "      <td>8</td>\n",
       "    </tr>\n",
       "    <tr>\n",
       "      <th>2023-02-11</th>\n",
       "      <td>9</td>\n",
       "    </tr>\n",
       "    <tr>\n",
       "      <th>2023-02-12</th>\n",
       "      <td>31</td>\n",
       "    </tr>\n",
       "    <tr>\n",
       "      <th>2023-02-13</th>\n",
       "      <td>28</td>\n",
       "    </tr>\n",
       "    <tr>\n",
       "      <th>2023-02-14</th>\n",
       "      <td>23</td>\n",
       "    </tr>\n",
       "    <tr>\n",
       "      <th>2023-02-15</th>\n",
       "      <td>15</td>\n",
       "    </tr>\n",
       "  </tbody>\n",
       "</table>\n",
       "</div>"
      ],
      "text/plain": [
       "            PM25\n",
       "Date            \n",
       "2023-01-27     1\n",
       "2023-01-28     1\n",
       "2023-01-29     1\n",
       "2023-01-30     1\n",
       "2023-01-31     1\n",
       "2023-02-01     1\n",
       "2023-02-02     1\n",
       "2023-02-03     2\n",
       "2023-02-04     2\n",
       "2023-02-05     2\n",
       "2023-02-06     5\n",
       "2023-02-07     3\n",
       "2023-02-08     5\n",
       "2023-02-09     4\n",
       "2023-02-10     8\n",
       "2023-02-11     9\n",
       "2023-02-12    31\n",
       "2023-02-13    28\n",
       "2023-02-14    23\n",
       "2023-02-15    15"
      ]
     },
     "execution_count": 4,
     "metadata": {},
     "output_type": "execute_result"
    }
   ],
   "source": [
    "df"
   ]
  },
  {
   "cell_type": "code",
   "execution_count": 5,
   "id": "00996493-0142-4125-a0c3-8a52c7e39a99",
   "metadata": {},
   "outputs": [
    {
     "data": {
      "text/plain": [
       "Date\n",
       "2023-01-27    1\n",
       "2023-01-28    1\n",
       "2023-01-29    1\n",
       "2023-01-30    1\n",
       "2023-01-31    1\n",
       "2023-02-01    1\n",
       "2023-02-02    1\n",
       "2023-02-03    2\n",
       "2023-02-04    2\n",
       "2023-02-05    2\n",
       "Name: PM25, dtype: int64"
      ]
     },
     "execution_count": 5,
     "metadata": {},
     "output_type": "execute_result"
    }
   ],
   "source": [
    "a=df.PM25[0:10]\n",
    "a"
   ]
  },
  {
   "cell_type": "code",
   "execution_count": 6,
   "id": "16884b9f-a58a-484d-b178-32f18563aaa5",
   "metadata": {},
   "outputs": [
    {
     "data": {
      "text/plain": [
       "Date\n",
       "2023-02-06     5\n",
       "2023-02-07     3\n",
       "2023-02-08     5\n",
       "2023-02-09     4\n",
       "2023-02-10     8\n",
       "2023-02-11     9\n",
       "2023-02-12    31\n",
       "2023-02-13    28\n",
       "2023-02-14    23\n",
       "2023-02-15    15\n",
       "Name: PM25, dtype: int64"
      ]
     },
     "execution_count": 6,
     "metadata": {},
     "output_type": "execute_result"
    }
   ],
   "source": [
    "b=df.PM25[10:]\n",
    "b"
   ]
  },
  {
   "cell_type": "code",
   "execution_count": 10,
   "id": "6cace6e2-1ba2-42b9-9a5d-a478c08cb962",
   "metadata": {},
   "outputs": [
    {
     "name": "stdout",
     "output_type": "stream",
     "text": [
      "Ttest_indResult(statistic=-3.5311830498210197, pvalue=0.002385639679508831)\n"
     ]
    }
   ],
   "source": [
    "from scipy.stats import ttest_ind\n",
    "res = stats.ttest_ind(a, b)\n",
    "print(res)"
   ]
  },
  {
   "cell_type": "code",
   "execution_count": 9,
   "id": "8f929bb2-e851-40b7-8e0b-4c99bac3e7f2",
   "metadata": {},
   "outputs": [
    {
     "name": "stdout",
     "output_type": "stream",
     "text": [
      "Ttest_relResult(statistic=-3.6289087288634287, pvalue=0.005494952603104367)\n"
     ]
    }
   ],
   "source": [
    "from scipy import stats\n",
    "tes= stats.ttest_rel(a, b)\n",
    "print(tes)"
   ]
  },
  {
   "cell_type": "code",
   "execution_count": 11,
   "id": "d40317a8-88de-449e-b04e-09fe41e09a33",
   "metadata": {},
   "outputs": [
    {
     "name": "stdout",
     "output_type": "stream",
     "text": [
      "            PM25                                        ttest\n",
      "Date                                                         \n",
      "2023-01-27     1  (-3.5311830498210197, 0.002385639679508831)\n",
      "2023-01-28     1  (-3.5311830498210197, 0.002385639679508831)\n",
      "2023-01-29     1  (-3.5311830498210197, 0.002385639679508831)\n",
      "2023-01-30     1  (-3.5311830498210197, 0.002385639679508831)\n",
      "2023-01-31     1  (-3.5311830498210197, 0.002385639679508831)\n",
      "2023-02-01     1  (-3.5311830498210197, 0.002385639679508831)\n",
      "2023-02-02     1  (-3.5311830498210197, 0.002385639679508831)\n",
      "2023-02-03     2  (-3.5311830498210197, 0.002385639679508831)\n",
      "2023-02-04     2  (-3.5311830498210197, 0.002385639679508831)\n",
      "2023-02-05     2  (-3.5311830498210197, 0.002385639679508831)\n",
      "2023-02-06     5  (-3.5311830498210197, 0.002385639679508831)\n",
      "2023-02-07     3  (-3.5311830498210197, 0.002385639679508831)\n",
      "2023-02-08     5  (-3.5311830498210197, 0.002385639679508831)\n",
      "2023-02-09     4  (-3.5311830498210197, 0.002385639679508831)\n",
      "2023-02-10     8  (-3.5311830498210197, 0.002385639679508831)\n",
      "2023-02-11     9  (-3.5311830498210197, 0.002385639679508831)\n",
      "2023-02-12    31  (-3.5311830498210197, 0.002385639679508831)\n",
      "2023-02-13    28  (-3.5311830498210197, 0.002385639679508831)\n",
      "2023-02-14    23  (-3.5311830498210197, 0.002385639679508831)\n",
      "2023-02-15    15  (-3.5311830498210197, 0.002385639679508831)\n"
     ]
    }
   ],
   "source": [
    "def ttest(a, b):\n",
    "    t = ttest_ind(a,b)\n",
    "    return t\n",
    "df['ttest'] = df.apply(lambda row: ttest(a,b), axis=1)\n",
    "print(df)"
   ]
  },
  {
   "cell_type": "code",
   "execution_count": null,
   "id": "a5033f48-d28a-45c2-9282-9febeb2f2395",
   "metadata": {},
   "outputs": [],
   "source": []
  }
 ],
 "metadata": {
  "kernelspec": {
   "display_name": "Python 3 (ipykernel)",
   "language": "python",
   "name": "python3"
  },
  "language_info": {
   "codemirror_mode": {
    "name": "ipython",
    "version": 3
   },
   "file_extension": ".py",
   "mimetype": "text/x-python",
   "name": "python",
   "nbconvert_exporter": "python",
   "pygments_lexer": "ipython3",
   "version": "3.7.3"
  }
 },
 "nbformat": 4,
 "nbformat_minor": 5
}
